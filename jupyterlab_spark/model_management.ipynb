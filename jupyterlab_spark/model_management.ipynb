{
 "cells": [
  {
   "cell_type": "markdown",
   "metadata": {},
   "source": [
    "#### MLFLOW"
   ]
  },
  {
   "cell_type": "markdown",
   "metadata": {},
   "source": [
    "##### Get the best run id"
   ]
  },
  {
   "cell_type": "code",
   "execution_count": null,
   "metadata": {},
   "outputs": [],
   "source": [
    "import mlflow\n",
    "\n",
    "experiment_name = \"nyc_traffic_taxi\"\n",
    "current_experiment=dict(mlflow.get_experiment_by_name(experiment_name))\n",
    "experiment_id=current_experiment['experiment_id']"
   ]
  },
  {
   "cell_type": "code",
   "execution_count": null,
   "metadata": {},
   "outputs": [],
   "source": [
    "df = mlflow.search_runs([experiment_id], order_by=[\"metrics.area_under_roc DESC\"])\n",
    "best_run_id = df.loc[0,'run_id']"
   ]
  },
  {
   "cell_type": "markdown",
   "metadata": {},
   "source": [
    "##### Register the model"
   ]
  },
  {
   "cell_type": "code",
   "execution_count": null,
   "metadata": {},
   "outputs": [],
   "source": [
    "model_uri = \"runs:/{run_id}/{artifact_path}\".format(run_id=best_run_id, artifact_path=\"lr_model\")\n",
    " \n",
    "model_details = mlflow.register_model(model_uri=model_uri, name=\"lr_model\")"
   ]
  },
  {
   "cell_type": "markdown",
   "metadata": {},
   "source": [
    "##### Promove the model"
   ]
  },
  {
   "cell_type": "code",
   "execution_count": null,
   "metadata": {},
   "outputs": [],
   "source": [
    "from mlflow.tracking.client import MlflowClient\n",
    " \n",
    "client = MlflowClient()\n",
    "client.update_registered_model(\n",
    "  name=model_details.name,\n",
    "  description=\"Este modelo possui o intuito de predizer o tráfego da cidade de Nova York\"\n",
    ")"
   ]
  },
  {
   "cell_type": "code",
   "execution_count": null,
   "metadata": {},
   "outputs": [],
   "source": [
    "client.update_model_version(\n",
    "  name=model_details.name,\n",
    "  version=model_details.version,\n",
    "  description=\"Esta é a primeira versão do modelo capaz de predizer o tráfego da cidade de Nova York\"\n",
    ")"
   ]
  },
  {
   "cell_type": "code",
   "execution_count": null,
   "metadata": {},
   "outputs": [],
   "source": [
    "model_version_details = client.get_model_version(\n",
    "  name=model_details.name,\n",
    "  version=model_details.version,\n",
    ")\n",
    "print(\"O modelo está no estágio: '{stage}'\".format(stage=model_version_details.current_stage))"
   ]
  },
  {
   "cell_type": "code",
   "execution_count": null,
   "metadata": {},
   "outputs": [],
   "source": [
    "client.transition_model_version_stage(\n",
    "  name=model_details.name,\n",
    "  version=model_details.version,\n",
    "  stage='Staging',\n",
    ")"
   ]
  },
  {
   "cell_type": "code",
   "execution_count": null,
   "metadata": {},
   "outputs": [],
   "source": [
    "model_version_details = client.get_model_version(\n",
    "  name=model_details.name,\n",
    "  version=model_details.version,\n",
    ")\n",
    "print(\"O modelo está no estágio: '{stage}'\".format(stage=model_version_details.current_stage))"
   ]
  },
  {
   "cell_type": "code",
   "execution_count": null,
   "metadata": {},
   "outputs": [],
   "source": [
    "client.transition_model_version_stage(\n",
    "  name=model_details.name,\n",
    "  version=model_details.version,\n",
    "  stage='Production',\n",
    ")"
   ]
  },
  {
   "cell_type": "code",
   "execution_count": null,
   "metadata": {},
   "outputs": [],
   "source": [
    "model_version_details = client.get_model_version(\n",
    "  name=model_details.name,\n",
    "  version=model_details.version,\n",
    ")\n",
    "print(\"O modelo está no estágio: '{stage}'\".format(stage=model_version_details.current_stage))"
   ]
  },
  {
   "cell_type": "code",
   "execution_count": null,
   "metadata": {},
   "outputs": [],
   "source": [
    "model_name = \"lr_model\"\n",
    "\n",
    "latest_version_info = client.get_latest_versions(model_name, stages=[\"Production\"])\n",
    "latest_production_version = latest_version_info[0].version\n",
    "print(\"A última versão do modelo '%s' é '%s'.\" % (model_name, latest_production_version))"
   ]
  },
  {
   "cell_type": "markdown",
   "metadata": {},
   "source": [
    "#### Download of the pipeline"
   ]
  },
  {
   "cell_type": "code",
   "execution_count": null,
   "metadata": {},
   "outputs": [],
   "source": [
    "import os\n",
    "\n",
    "target_path = \"/home/jovyan/work/mlib_pipeline_ok/\"\n",
    "\n",
    "os.makedirs(target_path, exist_ok=True)\n",
    "\n",
    "client.download_artifacts(best_run_id, \"pipeline\", target_path)"
   ]
  },
  {
   "cell_type": "markdown",
   "metadata": {},
   "source": [
    "#### Load the model in production"
   ]
  },
  {
   "cell_type": "code",
   "execution_count": null,
   "metadata": {},
   "outputs": [],
   "source": [
    "model_name = \"lr_model\"\n",
    "\n",
    "model_production_uri = \"models:/{model_name}/production\".format(model_name=model_name)\n",
    " \n",
    "print(\"Loading registered model version from URI: '{model_uri}'\".format(model_uri=model_production_uri))\n",
    "\n",
    "model_production = mlflow.spark.load_model(model_uri=model_production_uri)"
   ]
  },
  {
   "cell_type": "markdown",
   "metadata": {},
   "source": [
    "##### Create the connection Spark"
   ]
  },
  {
   "cell_type": "code",
   "execution_count": null,
   "metadata": {},
   "outputs": [],
   "source": [
    "from pyspark.sql import SparkSession\n",
    "\n",
    "# Create a SparkSession with specific configurations\n",
    "spark = SparkSession.builder \\\n",
    "    .appName(\"Spark Application\") \\\n",
    "    .master(\"local[*]\") \\\n",
    "    .config(\"spark.driver.memory\", \"2g\") \\\n",
    "    .config(\"spark.driver.cores\", \"2\") \\\n",
    "    .config(\"spark.executor.memory\", \"2g\") \\\n",
    "    .config(\"spark.executor.cores\", \"2\") \\\n",
    "    .config(\"spark.dynamicAllocation.enabled\", \"true\") \\\n",
    "    .config(\"spark.dynamicAllocation.minExecutors\", \"1\") \\\n",
    "    .config(\"spark.dynamicAllocation.maxExecutors\", \"4\") \\\n",
    "    .config(\"spark.python.worker.timeout\", \"600\") \\\n",
    "    .getOrCreate()"
   ]
  },
  {
   "cell_type": "markdown",
   "metadata": {},
   "source": [
    "#### Load the Dataframe"
   ]
  },
  {
   "cell_type": "code",
   "execution_count": null,
   "metadata": {},
   "outputs": [],
   "source": [
    "sample_url = \"/home/jovyan/work/nyc_tlc_predict.csv\""
   ]
  },
  {
   "cell_type": "code",
   "execution_count": null,
   "metadata": {},
   "outputs": [],
   "source": [
    "import pandas as pd\n",
    "\n",
    "nyc_tlc_pandas_sampled = pd.read_csv(sample_url)\n",
    "\n",
    "nyc_tlc_pandas_sampled = (\n",
    "    spark.createDataFrame(nyc_tlc_pandas_sampled)\n",
    ")"
   ]
  },
  {
   "cell_type": "markdown",
   "metadata": {},
   "source": [
    "#### Prepare the Dataframe"
   ]
  },
  {
   "cell_type": "code",
   "execution_count": null,
   "metadata": {},
   "outputs": [],
   "source": [
    "from datetime import datetime\n",
    "from pyspark.sql.functions import unix_timestamp, date_format, col, when\n",
    "from pyspark.ml import Pipeline\n",
    "from pyspark.ml import PipelineModel\n",
    "from pyspark.ml.feature import RFormula\n",
    "from pyspark.ml.feature import OneHotEncoder, StringIndexer, VectorIndexer\n",
    "from pyspark.ml.classification import LogisticRegression\n",
    "from pyspark.mllib.evaluation import BinaryClassificationMetrics\n",
    "from pyspark.ml.evaluation import BinaryClassificationEvaluator\n",
    "from pyspark.sql import SparkSession\n",
    "import pandas as pd"
   ]
  },
  {
   "cell_type": "code",
   "execution_count": null,
   "metadata": {},
   "outputs": [],
   "source": [
    "taxi_df = (\n",
    "    nyc_tlc_pandas_sampled\n",
    "    .select(\n",
    "        'totalAmount',\n",
    "        'fareAmount',\n",
    "        'tipAmount',\n",
    "        'paymentType',\n",
    "        'rateCodeId',\n",
    "        'passengerCount',\n",
    "        'tripDistance',\n",
    "        'tpepPickupDateTime',\n",
    "        'tpepDropoffDateTime',\n",
    "        date_format('tpepPickupDateTime', 'hh').alias('pickupHour'),\n",
    "        date_format('tpepPickupDateTime', 'EEEE').alias('weekdayString'),\n",
    "        (unix_timestamp(col('tpepDropoffDateTime')) - unix_timestamp(col('tpepPickupDateTime'))).alias('tripTimeSecs'),\n",
    "        (when(col('tipAmount') > 0, 1).otherwise(0)).alias('tipped')\n",
    "    )\n",
    "    .filter(\n",
    "        (col('passengerCount') > 0) &\n",
    "        (col('passengerCount') < 8) &\n",
    "        (col('tipAmount') >= 0) &\n",
    "        (col('tipAmount') <= 25) &\n",
    "        (col('fareAmount') >= 1) &\n",
    "        (col('fareAmount') <= 250) &\n",
    "        (col('tipAmount') < col('fareAmount')) &\n",
    "        (col('tripDistance') > 0) &\n",
    "        (col('tripDistance') <= 100) &\n",
    "        (col('rateCodeId') <= 5) &\n",
    "        (col('paymentType').isin(\"1\", \"2\"))\n",
    "    )\n",
    ")"
   ]
  },
  {
   "cell_type": "code",
   "execution_count": null,
   "metadata": {},
   "outputs": [],
   "source": [
    "taxi_featurised_df = (\n",
    "    taxi_df\n",
    "    .select(\n",
    "        'totalAmount',\n",
    "        'fareAmount',\n",
    "        'tipAmount',\n",
    "        'paymentType',\n",
    "        'passengerCount',\n",
    "        'tripDistance',\n",
    "        'weekdayString',\n",
    "        'pickupHour',\n",
    "        'tripTimeSecs',\n",
    "        'tipped',\n",
    "        when((col('pickupHour') <= 6) | (col('pickupHour') >= 20), \"Night\")\n",
    "        .when((col('pickupHour') >= 7) & (col('pickupHour') <= 10), \"AMRush\")\n",
    "        .when((col('pickupHour') >= 11) & (col('pickupHour') <= 15), \"Afternoon\")\n",
    "        .when((col('pickupHour') >= 16) & (col('pickupHour') <= 19), \"PMRush\")\n",
    "        .otherwise(\"Unknown\").alias('trafficTimeBins')  # Changed 0 to \"Unknown\" for consistency\n",
    "    )\n",
    "    .filter(\n",
    "        (col('tripTimeSecs') >= 30) &\n",
    "        (col('tripTimeSecs') <= 7200)\n",
    "    )\n",
    ")"
   ]
  },
  {
   "cell_type": "markdown",
   "metadata": {},
   "source": [
    "#### Predicion process"
   ]
  },
  {
   "cell_type": "code",
   "execution_count": null,
   "metadata": {},
   "outputs": [],
   "source": [
    "from pyspark.ml import PipelineModel\n",
    "\n",
    "pipelineModel = PipelineModel.load(\"/home/jovyan/work/mlib_pipeline_ok/pipeline/\")\n",
    "\n",
    "df = pipelineModel.transform(taxi_featurised_df)\n",
    "\n",
    "predictions = model_production.transform(df)"
   ]
  },
  {
   "cell_type": "markdown",
   "metadata": {},
   "source": [
    "##### Metrics of the prediction"
   ]
  },
  {
   "cell_type": "code",
   "execution_count": null,
   "metadata": {},
   "outputs": [],
   "source": [
    "# Convert predictions to RDD and compute metrics\n",
    "prediction_and_labels = predictions.select(\"label\", \"prediction\").rdd\n",
    "metrics = BinaryClassificationMetrics(prediction_and_labels)"
   ]
  },
  {
   "cell_type": "code",
   "execution_count": null,
   "metadata": {},
   "outputs": [],
   "source": [
    "metrics.areaUnderROC"
   ]
  },
  {
   "cell_type": "markdown",
   "metadata": {},
   "source": [
    "#### Delete the model"
   ]
  },
  {
   "cell_type": "code",
   "execution_count": null,
   "metadata": {},
   "outputs": [],
   "source": [
    "client.delete_model_version(\n",
    " name=model_name,\n",
    " version=3,\n",
    ")"
   ]
  },
  {
   "cell_type": "markdown",
   "metadata": {},
   "source": [
    "#### Close the Spark Connection"
   ]
  },
  {
   "cell_type": "code",
   "execution_count": null,
   "metadata": {},
   "outputs": [],
   "source": [
    "spark.stop()"
   ]
  }
 ],
 "metadata": {
  "kernelspec": {
   "display_name": "Python 3 (ipykernel)",
   "language": "python",
   "name": "python3"
  },
  "language_info": {
   "codemirror_mode": {
    "name": "ipython",
    "version": 3
   },
   "file_extension": ".py",
   "mimetype": "text/x-python",
   "name": "python",
   "nbconvert_exporter": "python",
   "pygments_lexer": "ipython3",
   "version": "3.11.6"
  }
 },
 "nbformat": 4,
 "nbformat_minor": 4
}
